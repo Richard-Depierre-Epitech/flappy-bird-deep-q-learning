{
 "cells": [
  {
   "cell_type": "code",
   "execution_count": null,
   "metadata": {},
   "outputs": [],
   "source": [
    "import flappy_bird_gymnasium\n",
    "import gymnasium\n",
    "import torch\n",
    "from torch import nn\n",
    "import torch.nn.functional as F\n",
    "from collections import deque\n",
    "import random\n",
    "import itertools\n",
    "import yaml"
   ]
  },
  {
   "cell_type": "code",
   "execution_count": null,
   "metadata": {},
   "outputs": [],
   "source": [
    "class ReplayMemory():\n",
    "    def __init__(self, maxlen, seed=None):\n",
    "        self.memory = deque(maxlen=maxlen)\n",
    "        if seed is not None:\n",
    "            random.seed(seed)\n",
    "\n",
    "    def append(self, transition):\n",
    "        self.memory.append(transition)\n",
    "\n",
    "    def sample(self, sample_size):\n",
    "        return random.sample(self.memory, sample_size)\n",
    "\n",
    "    def __len__(self):\n",
    "        return len(self.memory)"
   ]
  },
  {
   "cell_type": "code",
   "execution_count": 14,
   "metadata": {},
   "outputs": [],
   "source": [
    "class DQN(nn.Module):\n",
    "    def __init__(self, state_dim, action_dim, hidden_dim=256):\n",
    "        super(DQN, self).__init__()\n",
    "        self.fc1 = nn.Linear(state_dim, hidden_dim)\n",
    "        self.fc2 = nn.Linear(hidden_dim, action_dim)\n",
    "\n",
    "    def forward(self, x):\n",
    "        x = F.relu(self.fc1(x))\n",
    "        x = self.fc2(x)\n",
    "        return x"
   ]
  },
  {
   "cell_type": "code",
   "execution_count": 15,
   "metadata": {},
   "outputs": [
    {
     "name": "stdout",
     "output_type": "stream",
     "text": [
      "tensor([[ 0.1160,  0.0335],\n",
      "        [-0.2501,  0.1937],\n",
      "        [ 0.2432,  0.1318],\n",
      "        [ 0.1034, -0.2127],\n",
      "        [ 0.1952,  0.1245],\n",
      "        [ 0.2403,  0.1420],\n",
      "        [ 0.0785, -0.3827],\n",
      "        [-0.3557, -0.1583],\n",
      "        [ 0.0288, -0.0472],\n",
      "        [-0.0570,  0.0486]], grad_fn=<AddmmBackward0>)\n"
     ]
    }
   ],
   "source": [
    "state_dim = 12\n",
    "action_dim = 2\n",
    "net = DQN(state_dim, action_dim)\n",
    "state = torch.randn(10, state_dim)\n",
    "output = net(state)\n",
    "print(output)"
   ]
  },
  {
   "cell_type": "code",
   "execution_count": 19,
   "metadata": {},
   "outputs": [],
   "source": [
    "is_training = True\n",
    "\n",
    "# env = gymnasium.make(\"FlappyBird-v0\", render_mode=\"human\", use_lidar=True)\n",
    "env = gymnasium.make(\"CartPole-v1\", render_mode=None if is_training else \"human\")\n",
    "\n",
    "number_of_episodes = 1\n",
    "num_actions = env.action_space.n\n",
    "num_states = env.observation_space.shape[0]\n",
    "\n",
    "rewards_per_episode = []\n",
    "\n",
    "policy_dqn = DQN(num_states, num_actions)\n",
    "\n",
    "if (is_training):\n",
    "    memory = ReplayMemory(10000)"
   ]
  },
  {
   "cell_type": "code",
   "execution_count": 17,
   "metadata": {},
   "outputs": [
    {
     "name": "stderr",
     "output_type": "stream",
     "text": [
      "/Users/richard.depierre/Documents/epitech/flappy-bird-deep-q-learning/.venv/lib/python3.11/site-packages/gymnasium/envs/classic_control/cartpole.py:215: UserWarning: \u001b[33mWARN: You are calling render method without specifying any render mode. You can specify the render_mode at initialization, e.g. gym.make(\"CartPole-v1\", render_mode=\"rgb_array\")\u001b[0m\n",
      "  gym.logger.warn(\n"
     ]
    }
   ],
   "source": [
    "for epsiode in itertools.count():\n",
    "    state, _ = env.reset()\n",
    "    terminated = False\n",
    "    episode_reward = 0\n",
    "    while not terminated:\n",
    "        # Actions:\n",
    "        # 0 - do nothing\n",
    "        # 1 - flap\n",
    "        action = env.action_space.sample()\n",
    "\n",
    "        # Processing:\n",
    "        new_state, reward, terminated, _, info = env.step(action)\n",
    "\n",
    "        if (is_training):\n",
    "            memory.append((state, action, new_state, reward, terminated))\n",
    "\n",
    "        state = new_state\n",
    "        episode_reward += reward\n",
    "        \n",
    "        # Rendering:\n",
    "        env.render()\n",
    "        # Rewards:\n",
    "        #+0.1 - every frame it stays alive\n",
    "        #+1.0 - successfully passing a pipe\n",
    "        #-1.0 - dying\n",
    "        #−0.5 - touch the top of the screen\n",
    "\n",
    "        # Checking if the player is still alive\n",
    "    rewards_per_episode.append(episode_reward)\n",
    "\n",
    "env.close()"
   ]
  }
 ],
 "metadata": {
  "kernelspec": {
   "display_name": ".venv",
   "language": "python",
   "name": "python3"
  },
  "language_info": {
   "codemirror_mode": {
    "name": "ipython",
    "version": 3
   },
   "file_extension": ".py",
   "mimetype": "text/x-python",
   "name": "python",
   "nbconvert_exporter": "python",
   "pygments_lexer": "ipython3",
   "version": "3.11.11"
  }
 },
 "nbformat": 4,
 "nbformat_minor": 2
}
